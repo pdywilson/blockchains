{
 "cells": [
  {
   "cell_type": "code",
   "execution_count": 12,
   "metadata": {},
   "outputs": [],
   "source": [
    "import hashlib as hasher\n",
    "\n",
    "class Block:\n",
    "    def __init__(self, index, timestamp, data, previous_hash):\n",
    "        self.index = index\n",
    "        self.timestamp = timestamp\n",
    "        self.data = data\n",
    "        self.previous_hash = previous_hash\n",
    "        self.hash = self.hash_block()\n",
    "  \n",
    "    def hash_block(self):\n",
    "        sha = hasher.sha256()\n",
    "        sha.update((str(self.index) + \n",
    "                   str(self.timestamp) + \n",
    "                   str(self.data) + \n",
    "                   str(self.previous_hash)).encode())\n",
    "        return sha.hexdigest()"
   ]
  },
  {
   "cell_type": "code",
   "execution_count": 2,
   "metadata": {},
   "outputs": [],
   "source": [
    "import datetime as date\n",
    "\n",
    "def create_genesis_block():\n",
    "    # Manually construct a block with\n",
    "    # index zero and arbitrary previous hash\n",
    "    return Block(0, date.datetime.now(), \"Genesis Block\", \"0\")"
   ]
  },
  {
   "cell_type": "code",
   "execution_count": 3,
   "metadata": {},
   "outputs": [],
   "source": [
    "def next_block(last_block):\n",
    "    this_index = last_block.index + 1\n",
    "    this_timestamp = date.datetime.now()\n",
    "    this_data = \"Hey! I'm block \" + str(this_index)\n",
    "    this_hash = last_block.hash\n",
    "    return Block(this_index, this_timestamp, this_data, this_hash)"
   ]
  },
  {
   "cell_type": "code",
   "execution_count": 13,
   "metadata": {},
   "outputs": [
    {
     "name": "stdout",
     "output_type": "stream",
     "text": [
      "Block #1 has been added to the blockchain!\n",
      "Hash: 1768ab4b6f3804797c4cbda09dab4788106fcc743db9927739b59fcb2c4fbb59\n",
      "\n",
      "Block #2 has been added to the blockchain!\n",
      "Hash: 980000cb4c2e8022e8dd4dae3c8a8f8d032ebc54af78a38f6642339bf39f2af1\n",
      "\n",
      "Block #3 has been added to the blockchain!\n",
      "Hash: f2f6a5bd9d5b1caebdf81850c877d863a66e313a1443322ec6238a7f6238d2d5\n",
      "\n",
      "Block #4 has been added to the blockchain!\n",
      "Hash: f6a6890aa6e8bf0f1d97c955a72f98b303f3f0c375cd3bb93ac17ef20953ca57\n",
      "\n",
      "Block #5 has been added to the blockchain!\n",
      "Hash: d31e24ce91bd4cc1ac3231a9fa52ce1899954280802658a0b18d574bcaef847c\n",
      "\n",
      "Block #6 has been added to the blockchain!\n",
      "Hash: de2897f937bbe893244a6a70e7ab12b36469a7855d4cb30db914a6e33b804cf7\n",
      "\n",
      "Block #7 has been added to the blockchain!\n",
      "Hash: 54970f4ebfb24506b6fa944afd17736f2217bbe02ad3a124ca34b5443c04cda8\n",
      "\n",
      "Block #8 has been added to the blockchain!\n",
      "Hash: d029c325e704e307d4af452ddb4928abd8353e04b3b71bf4b2e41683fd9e265f\n",
      "\n",
      "Block #9 has been added to the blockchain!\n",
      "Hash: 6250e3fa1d46be5ea2a6eb19373f64481119e402411da8b01a1e8ef4a83ecf82\n",
      "\n",
      "Block #10 has been added to the blockchain!\n",
      "Hash: 47a1945951210f47f3e436a7eddf40d48c294f44c101125fdc93b043498512f4\n",
      "\n",
      "Block #11 has been added to the blockchain!\n",
      "Hash: 95265097c4e6e4188cd9634cb5e1e3c876582e42c99a027de325d5a25efb917e\n",
      "\n",
      "Block #12 has been added to the blockchain!\n",
      "Hash: f4cc64a32b4644009ff00c73ccd9767f48b067ed06341c2fe76307402ec4fa4f\n",
      "\n",
      "Block #13 has been added to the blockchain!\n",
      "Hash: d36779eef221426a558670a5df6753ae17fd9fd15bacb5ce3feba95ad27e0b90\n",
      "\n",
      "Block #14 has been added to the blockchain!\n",
      "Hash: 6eca91c86bda47f1b876a12f9af96807f59efd424a90354f24a987f6ea3f7abd\n",
      "\n",
      "Block #15 has been added to the blockchain!\n",
      "Hash: fa01ccd5805ceaba39c96fc1e7bcaa08ae26212e88cf8dbbaaa9a9ba8f6bf054\n",
      "\n",
      "Block #16 has been added to the blockchain!\n",
      "Hash: cc7a2f2d7dfc443a33f9c5c96d25ce53f922cd0f97cdf108c9de33ef584c1036\n",
      "\n",
      "Block #17 has been added to the blockchain!\n",
      "Hash: fad4b05f0fb1e30fd7d3a4c1e95ff599492721a9ae4c8d61ad9dd200f24b0626\n",
      "\n",
      "Block #18 has been added to the blockchain!\n",
      "Hash: 65928bdfa9f2706b9099663ad8a13cdaf2e49262a72ecdf02f9e3319ea696835\n",
      "\n",
      "Block #19 has been added to the blockchain!\n",
      "Hash: 23fea327584d927220b43e1a8f51019928daf9966f8267fd4ff78bd4d7dc1759\n",
      "\n",
      "Block #20 has been added to the blockchain!\n",
      "Hash: 45a5cdc4a15e93da1288781b6db648e1050afc3990d9e2ad3e43fa03a3fd4054\n",
      "\n"
     ]
    }
   ],
   "source": [
    "blockchain = [create_genesis_block()]\n",
    "previous_block = blockchain[0]\n",
    "\n",
    "# How many blocks should we add to the chain\n",
    "# after the genesis block\n",
    "num_of_blocks_to_add = 20\n",
    "\n",
    "# Add blocks to the chain\n",
    "for i in range(0, num_of_blocks_to_add):\n",
    "    block_to_add = next_block(previous_block)\n",
    "    blockchain.append(block_to_add)\n",
    "    previous_block = block_to_add\n",
    "    # Tell everyone about it!\n",
    "    print(\"Block #{} has been added to the blockchain!\".format(block_to_add.index))\n",
    "    print(\"Hash: {}\\n\".format(block_to_add.hash) )"
   ]
  }
 ],
 "metadata": {
  "kernelspec": {
   "display_name": "Python 3",
   "language": "python",
   "name": "python3"
  },
  "language_info": {
   "codemirror_mode": {
    "name": "ipython",
    "version": 3
   },
   "file_extension": ".py",
   "mimetype": "text/x-python",
   "name": "python",
   "nbconvert_exporter": "python",
   "pygments_lexer": "ipython3",
   "version": "3.6.6"
  }
 },
 "nbformat": 4,
 "nbformat_minor": 2
}
